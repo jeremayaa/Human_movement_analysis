{
 "cells": [
  {
   "cell_type": "code",
   "execution_count": 1,
   "metadata": {},
   "outputs": [],
   "source": [
    "import matplotlib.pyplot as plt\n",
    "from matplotlib.animation import FuncAnimation, PillowWriter\n",
    "import json\n",
    "\n",
    "json_file = 'Data\\D1_flexion_golden_repetition.json'\n",
    "\n",
    "# Load the data\n",
    "with open(json_file, 'r') as file:\n",
    "    data = json.load(file)\n"
   ]
  },
  {
   "cell_type": "code",
   "execution_count": 2,
   "metadata": {},
   "outputs": [],
   "source": [
    "\n",
    "def get_body_parts(data):\n",
    "    \"\"\"\n",
    "    This function returns 'body_parts' dictionary, that links the name of the body part, with its index.\n",
    "    \"\"\"\n",
    "    try:\n",
    "        body_parts = {node['name']: node['index'] for node in data['used_nodes']}\n",
    "    except KeyError:\n",
    "        # Some exercises (f.e. 'D1_flexion) do not contain the 'used_nodes' key, so let's assume the following:\n",
    "        body_parts = {\n",
    "            'NOSE': 0,\n",
    "            'LEFT_EYE': 1,\n",
    "            'RIGHT_EYE': 2,\n",
    "            'LEFT_EAR': 3,\n",
    "            'RIGHT_EAR': 4,\n",
    "            'LEFT_SHOULDER': 5,\n",
    "            'RIGHT_SHOULDER': 6,\n",
    "            'LEFT_ELBOW': 7,\n",
    "            'RIGHT_ELBOW': 8,\n",
    "            'LEFT_WRIST': 9,\n",
    "            'RIGHT_WRIST': 10,\n",
    "            'LEFT_HIP': 11,\n",
    "            'RIGHT_HIP': 12,\n",
    "            'LEFT_KNEE': 13,\n",
    "            'RIGHT_KNEE': 14,\n",
    "            'LEFT_FOOT': 15,\n",
    "            'RIGHT_FOOT': 16\n",
    "        }\n",
    "    return body_parts\n",
    "\n",
    "def get_list_of_positions(data):\n",
    "    \"\"\"\n",
    "    This function preprocesses the 'golden_rep_poses' key into a list of frames.\n",
    "    Each frame is a list of tuples (x, y) representing the position of each node.\n",
    "    \"\"\"\n",
    "    list_of_positions = []\n",
    "    for timestamp in data['golden_rep_poses']:\n",
    "        positions = timestamp['pose']\n",
    "        list_of_tuples_for_each_timestamp = [\n",
    "            (positions[i], positions[i+1]) for i in range(0, 34, 2)\n",
    "        ]\n",
    "        list_of_positions.append(list_of_tuples_for_each_timestamp)\n",
    "    return list_of_positions\n",
    "\n",
    "def add_fake_point_between_A_and_B(A, B, list_of_positions, body_parts, name):\n",
    "    \"\"\"\n",
    "    Adds a fake point between points A and B and appends it to each frame in list_of_positions.\n",
    "    \"\"\"\n",
    "    for frame in list_of_positions:\n",
    "        fake_point_x = (frame[body_parts[A]][0] + frame[body_parts[B]][0]) / 2\n",
    "        fake_point_y = (frame[body_parts[A]][1] + frame[body_parts[B]][1]) / 2\n",
    "        frame.append((fake_point_x, fake_point_y))\n",
    "    body_parts[name] = len(body_parts)\n",
    "\n",
    "\n",
    "HUMAN_BLUEPRINT = [\n",
    "    ('LEFT_SHOULDER', 'LEFT_ELBOW'), ('LEFT_ELBOW', 'LEFT_WRIST'),\n",
    "    ('RIGHT_SHOULDER', 'RIGHT_ELBOW'), ('RIGHT_ELBOW', 'RIGHT_WRIST'),\n",
    "    ('RIGHT_SHOULDER', 'LEFT_SHOULDER'), ('RIGHT_HIP', 'LEFT_HIP'),\n",
    "    ('LEFT_HIP', 'LEFT_KNEE'), ('LEFT_KNEE', 'LEFT_FOOT'),\n",
    "    ('RIGHT_HIP', 'RIGHT_KNEE'), ('RIGHT_KNEE', 'RIGHT_FOOT')\n",
    "]\n"
   ]
  },
  {
   "cell_type": "code",
   "execution_count": 3,
   "metadata": {},
   "outputs": [
    {
     "data": {
      "image/png": "[encoded data removed]",
      "text/plain": [
       "<Figure size 640x480 with 1 Axes>"
      ]
     },
     "metadata": {},
     "output_type": "display_data"
    }
   ],
   "source": [
    "body_parts = get_body_parts(data)\n",
    "list_of_positions = get_list_of_positions(data)\n",
    "\n",
    "add_fake_point_between_A_and_B('RIGHT_HIP', 'LEFT_HIP', list_of_positions, body_parts, 'MID_HIP')\n",
    "\n",
    "# Add the connection from the MID_HIP to the NOSE\n",
    "HUMAN_BLUEPRINT.append(('MID_HIP', 'NOSE'))\n",
    "\n",
    "# Convert HUMAN_BLUEPRINT to indexes\n",
    "connections = [(body_parts[start], body_parts[end]) for start, end in HUMAN_BLUEPRINT]\n",
    "\n",
    "fig, ax = plt.subplots()\n",
    "ax.set_xlim(0, 1) # Inverting x-ax\n",
    "ax.set_ylim(1, 0) # Inverting y-ax\n",
    "\n",
    "lines = [ax.plot([], [], 'bo-', lw=2)[0] for _ in connections]\n",
    "\n",
    "def animate(i):\n",
    "    \"\"\"Update the animation with each frame.\"\"\"\n",
    "    frame = list_of_positions[i]\n",
    "    for line, (start, end) in zip(lines, connections):\n",
    "        x = [frame[start][0], frame[end][0]]\n",
    "        y = [frame[start][1], frame[end][1]]\n",
    "        line.set_data(x, y)\n",
    "    return lines\n",
    "\n",
    "# Create animation\n",
    "ani = FuncAnimation(fig, animate, frames=len(list_of_positions), interval=100, blit=True)\n",
    "\n",
    "gif_path = 'Animations/'+json_file[5:-5] + '_animation.gif'\n",
    "ani.save(gif_path, writer=PillowWriter(fps=30))\n",
    "\n",
    "plt.show()"
   ]
  }
 ],
 "metadata": {
  "kernelspec": {
   "display_name": "Python 3",
   "language": "python",
   "name": "python3"
  },
  "language_info": {
   "codemirror_mode": {
    "name": "ipython",
    "version": 3
   },
   "file_extension": ".py",
   "mimetype": "text/x-python",
   "name": "python",
   "nbconvert_exporter": "python",
   "pygments_lexer": "ipython3",
   "version": "3.10.4"
  }
 },
 "nbformat": 4,
 "nbformat_minor": 2
}
